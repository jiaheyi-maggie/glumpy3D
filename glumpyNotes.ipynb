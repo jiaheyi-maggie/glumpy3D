{
 "cells": [
  {
   "cell_type": "code",
   "execution_count": null,
   "metadata": {},
   "outputs": [],
   "source": [
    "import numpy;\n",
    "\n",
    "# initialize CPU buffer\n",
    "data = numpy.zeros(4, dtype = [(\"position\", np.float32, 2), (\"color\", np.float32, 4)])\n",
    "\n",
    "# communicate with vertex shader\n",
    "attribute vec2 position;\n",
    "attribute vec4 color;\n",
    "# scale all vectors by a common factor\n",
    "uniform float scale;\n",
    "# communicate with fragment shader\n",
    "varying \n",
    "\n",
    "void main() {\n",
    "    gl_Position = vec4(position * scale, 0.0, 1.0);\n",
    "}\n",
    "\n"
   ]
  }
 ],
 "metadata": {
  "kernelspec": {
   "display_name": "Python 3",
   "language": "python",
   "name": "python3"
  },
  "language_info": {
   "codemirror_mode": {
    "name": "ipython",
    "version": 3
   },
   "file_extension": ".py",
   "mimetype": "text/x-python",
   "name": "python",
   "nbconvert_exporter": "python",
   "pygments_lexer": "ipython3",
   "version": "3.7.4"
  }
 },
 "nbformat": 4,
 "nbformat_minor": 2
}
